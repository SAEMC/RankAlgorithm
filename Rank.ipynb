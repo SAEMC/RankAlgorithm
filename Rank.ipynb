{
 "cells": [
  {
   "cell_type": "code",
   "execution_count": 4,
   "metadata": {},
   "outputs": [
    {
     "data": {
      "text/plain": [
       "{'divide': 'ignore', 'over': 'warn', 'under': 'ignore', 'invalid': 'ignore'}"
      ]
     },
     "execution_count": 4,
     "metadata": {},
     "output_type": "execute_result"
    }
   ],
   "source": [
    "import numpy as np\n",
    "import torch\n",
    "import matplotlib.pyplot as plt\n",
    "\n",
    "np.seterr(divide=\"ignore\", invalid=\"ignore\",)"
   ]
  },
  {
   "cell_type": "code",
   "execution_count": 5,
   "metadata": {},
   "outputs": [],
   "source": [
    "def Rank(you, ref, controler=1):\n",
    "    # init\n",
    "    total_points = 0\n",
    "\n",
    "    # cal gradient\n",
    "    d_you, d_ref = [], []\n",
    "\n",
    "    for t in range(1, len(you)):\n",
    "        d_you.append(you[t] - you[t - 1])\n",
    "        d_ref.append(ref[t] - ref[t - 1])\n",
    "\n",
    "    # cal total_points\n",
    "    d_you, d_ref = np.array(d_you), np.array(d_ref)\n",
    "    score = np.nan_to_num(d_you / (d_ref + d_you))\n",
    "    mul = d_ref * d_you\n",
    "    points = []\n",
    "\n",
    "    for t in range(len(mul)):\n",
    "        if mul[t] > 0:\n",
    "            points.append(-400 * score[t] * (score[t] - 1))\n",
    "        elif mul[t] < 0:\n",
    "            points.append(0)\n",
    "        elif mul[t] == 0:\n",
    "            if d_you[t] == 0 and d_ref[t] == 0:\n",
    "                if t == 0:\n",
    "                    points.append(0)\n",
    "                else:\n",
    "                    if mul[t - 1] < 0:\n",
    "                        points.append(0)\n",
    "                    elif mul[t - 1] > 0:\n",
    "                        points.append(100)\n",
    "            elif (d_you[t] == 0 and d_ref[t] != 0) or (d_you[t] != 0 and d_ref[t] == 0):\n",
    "                points.append(0)\n",
    "\n",
    "    total_points = np.array(points).mean()\n",
    "\n",
    "    # return rank\n",
    "    if controler == 2:\n",
    "        total_points += 20\n",
    "    elif controler == 3:\n",
    "        total_points += 40\n",
    "\n",
    "    threshold = [\"A+\", \"A\", \"B+\", \"B\", \"C+\", \"C\", \"D+\", \"D\", \"E+\", \"E\"]\n",
    "\n",
    "    for i in range(len(threshold)):\n",
    "        if total_points >= (9 - i) * 10:\n",
    "            rank = threshold[i]\n",
    "            break\n",
    "\n",
    "    return rank"
   ]
  },
  {
   "cell_type": "code",
   "execution_count": 7,
   "metadata": {},
   "outputs": [
    {
     "data": {
      "image/png": "[encoded data removed]",
      "text/plain": [
       "<Figure size 432x288 with 1 Axes>"
      ]
     },
     "metadata": {
      "needs_background": "light"
     },
     "output_type": "display_data"
    },
    {
     "name": "stdout",
     "output_type": "stream",
     "text": [
      "A+\n"
     ]
    }
   ],
   "source": [
    "you = [6, 5, 4, 2, 4, 4, 2, 4, 5, 6]\n",
    "ref = [5, 4, 3, 1, 3, 3, 1, 3, 4, 5]\n",
    "\n",
    "plt.plot(you, marker=\"*\")\n",
    "plt.plot(ref, color=\"red\", marker=\"o\")\n",
    "plt.legend([\"you\", \"ref\"])\n",
    "plt.show()\n",
    "\n",
    "print(Rank(you, ref))"
   ]
  },
  {
   "cell_type": "code",
   "execution_count": null,
   "metadata": {},
   "outputs": [],
   "source": []
  }
 ],
 "metadata": {
  "kernelspec": {
   "display_name": "Python 3",
   "language": "python",
   "name": "python3"
  },
  "language_info": {
   "codemirror_mode": {
    "name": "ipython",
    "version": 3
   },
   "file_extension": ".py",
   "mimetype": "text/x-python",
   "name": "python",
   "nbconvert_exporter": "python",
   "pygments_lexer": "ipython3",
   "version": "3.8.3"
  }
 },
 "nbformat": 4,
 "nbformat_minor": 4
}
